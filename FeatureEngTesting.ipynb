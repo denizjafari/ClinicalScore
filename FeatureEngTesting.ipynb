{
 "cells": [
  {
   "cell_type": "code",
   "execution_count": 1,
   "metadata": {},
   "outputs": [],
   "source": [
    "%matplotlib inline"
   ]
  },
  {
   "cell_type": "code",
   "execution_count": 2,
   "metadata": {},
   "outputs": [],
   "source": [
    "import cv2\n",
    "import numpy as np\n",
    "import matplotlib.pyplot as plt\n",
    "import os\n",
    "from cv2 import VideoWriter, VideoWriter_fourcc\n",
    "import pandas as pd\n",
    "#import torch\n",
    "from scipy import signal, ndimage, spatial\n",
    "from scipy.signal import correlate\n",
    "from scipy.interpolate import CubicSpline\n",
    "from scipy.ndimage import gaussian_filter\n",
    "import math \n",
    "\n",
    "from scipy.interpolate import interp1d\n",
    "import scipy.stats as stats\n",
    "from scipy.stats import spearmanr\n",
    "from plot_kinematics_basic import plot_kinematics \n",
    "\n",
    "from feature_eng import ClinicalMetrics, ClinicalSignals\n",
    "import pandas as pd\n",
    "import numpy as np\n",
    "import argparse\n",
    "import os\n",
    "from typing import Dict, List"
   ]
  },
  {
   "cell_type": "markdown",
   "metadata": {},
   "source": [
    "### Function Definitions "
   ]
  },
  {
   "cell_type": "code",
   "execution_count": 3,
   "metadata": {},
   "outputs": [],
   "source": [
    "# cleaning video data \n",
    "\n",
    "def cleaning_video_df(DF):\n",
    "    \n",
    "    # choose the needed columns and convert the values to mm\n",
    "    DF = DF[[\"BAG_Frame_number\",'Time_Stamp (s)','Video_Frame_number',\n",
    "             'landmark_48', 'landmark_48.1', 'landmark_48.2', 'landmark_54',\n",
    "            'landmark_54.1', 'landmark_54.2', 'landmark_51', 'landmark_51.1',\n",
    "            'landmark_51.2', 'landmark_57', 'landmark_57.1', 'landmark_57.2']]\n",
    "  \n",
    "    \n",
    "    DF = DF.rename(columns={'Time_Stamp (s)': 'Time', \"landmark_48\": \"X_LR\", \"landmark_48.1\": \"Y_LR\",\n",
    "                           \"landmark_48.2\": \"Z_LR\", \"landmark_54\": \"X_LLeft\",\n",
    "                           \"landmark_54.1\": \"Y_LLeft\", \"landmark_54.2\": \"Z_LLeft\",\n",
    "                           \"landmark_51\": \"X_UL\", \"landmark_51.1\": \"Y_UL\",\n",
    "                           \"landmark_51.2\": \"Z_UL\", \"landmark_57\": \"X_LL\", \"landmark_57.1\": \"Y_LL\",\n",
    "                           \"landmark_57.2\": \"Z_LL\"})\n",
    "    \n",
    "    DF = DF.astype({ \"X_LR\": np.double, \"Y_LR\": np.double,\"Z_LR\": np.double, \"X_LLeft\": np.double,\n",
    "                            \"Y_LLeft\": np.double, \"Z_LLeft\": np.double, \"X_UL\": np.double,  \"Y_UL\": np.double,\n",
    "                            \"Z_UL\": np.double,  \"X_LL\": np.double,  \"Y_LL\": np.double, \"Z_LL\": np.double})\n",
    "    \n",
    "    # conver the values from m to mm\n",
    "    DF[[\"X_LR\", \"Y_LR\",\"Z_LR\", \"X_LLeft\", \"Y_LLeft\", \"Z_LLeft\", \"X_UL\",  \"Y_UL\",\"Z_UL\",  \"X_LL\", \n",
    "       \"Y_LL\", \"Z_LL\"]] =  DF[[\"X_LR\", \"Y_LR\",\"Z_LR\", \"X_LLeft\", \"Y_LLeft\", \"Z_LLeft\", \"X_UL\",  \"Y_UL\",\"Z_UL\",  \"X_LL\", \n",
    "       \"Y_LL\", \"Z_LL\"]]*1000\n",
    "    return DF\n"
   ]
  },
  {
   "cell_type": "markdown",
   "metadata": {},
   "source": [
    "# Reading the video files needed \n",
    "task video file\n",
    "Rest video file for normalization "
   ]
  },
  {
   "cell_type": "code",
   "execution_count": 4,
   "metadata": {},
   "outputs": [
    {
     "data": {
      "text/html": [
       "<div>\n",
       "<style scoped>\n",
       "    .dataframe tbody tr th:only-of-type {\n",
       "        vertical-align: middle;\n",
       "    }\n",
       "\n",
       "    .dataframe tbody tr th {\n",
       "        vertical-align: top;\n",
       "    }\n",
       "\n",
       "    .dataframe thead th {\n",
       "        text-align: right;\n",
       "    }\n",
       "</style>\n",
       "<table border=\"1\" class=\"dataframe\">\n",
       "  <thead>\n",
       "    <tr style=\"text-align: right;\">\n",
       "      <th></th>\n",
       "      <th>Unnamed: 0</th>\n",
       "      <th>subject_id</th>\n",
       "      <th>rep</th>\n",
       "      <th>task</th>\n",
       "      <th>type</th>\n",
       "      <th>Time_Stamp</th>\n",
       "      <th>O</th>\n",
       "      <th>vO</th>\n",
       "      <th>aO</th>\n",
       "      <th>jO</th>\n",
       "      <th>...</th>\n",
       "      <th>jLC_2</th>\n",
       "      <th>A_MOUTH</th>\n",
       "      <th>rA_MOUTH</th>\n",
       "      <th>lA_MOUTH</th>\n",
       "      <th>A_Mouth_diff</th>\n",
       "      <th>A_JAW</th>\n",
       "      <th>rA_JAW</th>\n",
       "      <th>lA_JAW</th>\n",
       "      <th>A_JAW_diff</th>\n",
       "      <th>e</th>\n",
       "    </tr>\n",
       "  </thead>\n",
       "  <tbody>\n",
       "    <tr>\n",
       "      <th>0</th>\n",
       "      <td>0</td>\n",
       "      <td>A001</td>\n",
       "      <td>0</td>\n",
       "      <td>BBP_NORMAL</td>\n",
       "      <td>1</td>\n",
       "      <td>0.515563</td>\n",
       "      <td>1.067899</td>\n",
       "      <td>-0.011932</td>\n",
       "      <td>0.023863</td>\n",
       "      <td>-1.110223e-16</td>\n",
       "      <td>...</td>\n",
       "      <td>-5.551115e-17</td>\n",
       "      <td>2.016352</td>\n",
       "      <td>1.031595</td>\n",
       "      <td>0.984756</td>\n",
       "      <td>0.046839</td>\n",
       "      <td>1.155914</td>\n",
       "      <td>0.909766</td>\n",
       "      <td>0.246148</td>\n",
       "      <td>0.663619</td>\n",
       "      <td>0.976644</td>\n",
       "    </tr>\n",
       "    <tr>\n",
       "      <th>1</th>\n",
       "      <td>1</td>\n",
       "      <td>A001</td>\n",
       "      <td>0</td>\n",
       "      <td>BBP_NORMAL</td>\n",
       "      <td>1</td>\n",
       "      <td>0.536186</td>\n",
       "      <td>1.067899</td>\n",
       "      <td>0.011932</td>\n",
       "      <td>0.023863</td>\n",
       "      <td>-1.110223e-16</td>\n",
       "      <td>...</td>\n",
       "      <td>-5.551115e-17</td>\n",
       "      <td>2.064395</td>\n",
       "      <td>1.031595</td>\n",
       "      <td>1.032800</td>\n",
       "      <td>0.001205</td>\n",
       "      <td>1.267759</td>\n",
       "      <td>0.909766</td>\n",
       "      <td>0.357993</td>\n",
       "      <td>0.551773</td>\n",
       "      <td>0.977381</td>\n",
       "    </tr>\n",
       "    <tr>\n",
       "      <th>2</th>\n",
       "      <td>2</td>\n",
       "      <td>A001</td>\n",
       "      <td>0</td>\n",
       "      <td>BBP_NORMAL</td>\n",
       "      <td>1</td>\n",
       "      <td>0.556809</td>\n",
       "      <td>1.091762</td>\n",
       "      <td>0.035795</td>\n",
       "      <td>0.023863</td>\n",
       "      <td>-1.110223e-16</td>\n",
       "      <td>...</td>\n",
       "      <td>-5.551115e-17</td>\n",
       "      <td>2.107523</td>\n",
       "      <td>1.054475</td>\n",
       "      <td>1.053049</td>\n",
       "      <td>0.001426</td>\n",
       "      <td>1.233667</td>\n",
       "      <td>0.917681</td>\n",
       "      <td>0.315986</td>\n",
       "      <td>0.601696</td>\n",
       "      <td>0.976348</td>\n",
       "    </tr>\n",
       "    <tr>\n",
       "      <th>3</th>\n",
       "      <td>3</td>\n",
       "      <td>A001</td>\n",
       "      <td>0</td>\n",
       "      <td>BBP_NORMAL</td>\n",
       "      <td>1</td>\n",
       "      <td>0.577431</td>\n",
       "      <td>1.136151</td>\n",
       "      <td>0.054651</td>\n",
       "      <td>0.016353</td>\n",
       "      <td>-1.126458e-02</td>\n",
       "      <td>...</td>\n",
       "      <td>-9.992584e-02</td>\n",
       "      <td>2.226521</td>\n",
       "      <td>1.114171</td>\n",
       "      <td>1.112350</td>\n",
       "      <td>0.001821</td>\n",
       "      <td>1.558590</td>\n",
       "      <td>1.045005</td>\n",
       "      <td>0.513585</td>\n",
       "      <td>0.531421</td>\n",
       "      <td>0.974348</td>\n",
       "    </tr>\n",
       "    <tr>\n",
       "      <th>4</th>\n",
       "      <td>4</td>\n",
       "      <td>A001</td>\n",
       "      <td>0</td>\n",
       "      <td>BBP_NORMAL</td>\n",
       "      <td>1</td>\n",
       "      <td>0.598054</td>\n",
       "      <td>1.848852</td>\n",
       "      <td>1.046857</td>\n",
       "      <td>1.478881</td>\n",
       "      <td>2.197546e+00</td>\n",
       "      <td>...</td>\n",
       "      <td>1.824895e-01</td>\n",
       "      <td>3.604086</td>\n",
       "      <td>1.770727</td>\n",
       "      <td>1.833359</td>\n",
       "      <td>0.062633</td>\n",
       "      <td>2.069403</td>\n",
       "      <td>1.249011</td>\n",
       "      <td>0.820392</td>\n",
       "      <td>0.428620</td>\n",
       "      <td>0.928109</td>\n",
       "    </tr>\n",
       "  </tbody>\n",
       "</table>\n",
       "<p>5 rows × 51 columns</p>\n",
       "</div>"
      ],
      "text/plain": [
       "   Unnamed: 0 subject_id  rep        task  type  Time_Stamp         O  \\\n",
       "0           0       A001    0  BBP_NORMAL     1    0.515563  1.067899   \n",
       "1           1       A001    0  BBP_NORMAL     1    0.536186  1.067899   \n",
       "2           2       A001    0  BBP_NORMAL     1    0.556809  1.091762   \n",
       "3           3       A001    0  BBP_NORMAL     1    0.577431  1.136151   \n",
       "4           4       A001    0  BBP_NORMAL     1    0.598054  1.848852   \n",
       "\n",
       "         vO        aO            jO  ...         jLC_2   A_MOUTH  rA_MOUTH  \\\n",
       "0 -0.011932  0.023863 -1.110223e-16  ... -5.551115e-17  2.016352  1.031595   \n",
       "1  0.011932  0.023863 -1.110223e-16  ... -5.551115e-17  2.064395  1.031595   \n",
       "2  0.035795  0.023863 -1.110223e-16  ... -5.551115e-17  2.107523  1.054475   \n",
       "3  0.054651  0.016353 -1.126458e-02  ... -9.992584e-02  2.226521  1.114171   \n",
       "4  1.046857  1.478881  2.197546e+00  ...  1.824895e-01  3.604086  1.770727   \n",
       "\n",
       "   lA_MOUTH  A_Mouth_diff     A_JAW    rA_JAW    lA_JAW  A_JAW_diff         e  \n",
       "0  0.984756      0.046839  1.155914  0.909766  0.246148    0.663619  0.976644  \n",
       "1  1.032800      0.001205  1.267759  0.909766  0.357993    0.551773  0.977381  \n",
       "2  1.053049      0.001426  1.233667  0.917681  0.315986    0.601696  0.976348  \n",
       "3  1.112350      0.001821  1.558590  1.045005  0.513585    0.531421  0.974348  \n",
       "4  1.833359      0.062633  2.069403  1.249011  0.820392    0.428620  0.928109  \n",
       "\n",
       "[5 rows x 51 columns]"
      ]
     },
     "execution_count": 4,
     "metadata": {},
     "output_type": "execute_result"
    }
   ],
   "source": [
    "input_csv_features = r\"/Users/denizjafari/documents/CODE/ClinicalScore/ClinicalScore/results/TEST/orofacial_signals_metric_output_BBP_NORMAL.csv\"\n",
    "\n",
    "input_csv_landmarks = r\"/Users/denizjafari/documents/CODE/ClinicalScore/FaceData_/video_data/ALS/old/A001/landmarks_finetuned_w15/A001_02_BBP_NORMAL_landmarksFiltered.csv\"\n",
    "\n",
    "df_f = pd.read_csv(input_csv_features)\n",
    "df_l = pd.read_csv(input_csv_landmarks)\n",
    "df_f.head()"
   ]
  },
  {
   "cell_type": "code",
   "execution_count": 5,
   "metadata": {},
   "outputs": [
    {
     "name": "stdout",
     "output_type": "stream",
     "text": [
      "(878, 51)\n"
     ]
    }
   ],
   "source": [
    "print(df_f.shape)\n",
    "\n",
    "features = df_f.columns"
   ]
  },
  {
   "cell_type": "code",
   "execution_count": 6,
   "metadata": {},
   "outputs": [
    {
     "name": "stdout",
     "output_type": "stream",
     "text": [
      "(1335, 69)\n",
      "(1335, 69)\n",
      "(875, 69)\n",
      "(875, 69)\n",
      "878\n"
     ]
    }
   ],
   "source": [
    "df_l_x_col = []\n",
    "df_l_y_col = []\n",
    "\n",
    "for col in df_l.columns:\n",
    "    if col == 'Time_Stamp (s)':\n",
    "        df_l_x_col.append(col)\n",
    "        df_l_y_col.append(col)\n",
    "    if \"landmark_\" in col and \"x\" in col:\n",
    "        df_l_x_col.append(col)\n",
    "    elif \"landmark_\" in col and \"y\" in col:\n",
    "        df_l_y_col.append(col)\n",
    "    \n",
    "    \n",
    "df_l_x = df_l[df_l_x_col]\n",
    "df_l_y = df_l[df_l_y_col]\n",
    "print(df_l_x.shape)\n",
    "print(df_l_y.shape)\n",
    "\n",
    "df_l_x = df_l_x.loc[df_l_x['Time_Stamp (s)'].isin(df_f.Time_Stamp.values)]\n",
    "print(df_l_x.shape)\n",
    "\n",
    "df_l_y = df_l_y.loc[df_l_y['Time_Stamp (s)'].isin(df_f.Time_Stamp.values)]\n",
    "print(df_l_y.shape)\n",
    "\n",
    "print(len(df_f.Time_Stamp.values))"
   ]
  },
  {
   "cell_type": "code",
   "execution_count": 7,
   "metadata": {},
   "outputs": [],
   "source": [
    "# here is weird thing going on\n",
    "# we don't see \n",
    "\n",
    "#np.in1d(df_f.Time_Stamp.values,df_l_y['Time_Stamp (s)'].values)"
   ]
  },
  {
   "cell_type": "code",
   "execution_count": 8,
   "metadata": {},
   "outputs": [
    {
     "name": "stdout",
     "output_type": "stream",
     "text": [
      "(82, 51)\n",
      "(81, 68)\n",
      "(68, 81)\n",
      "82\n",
      "82\n"
     ]
    }
   ],
   "source": [
    "# get the data per rep in order to then plot them \n",
    "feature = 'O'\n",
    "\n",
    "rep_f = df_f.loc[df_f['rep']==1]\n",
    "\n",
    "rep_y = df_l_y.loc[df_l_y['Time_Stamp (s)'].isin(rep_f.Time_Stamp.values)]\n",
    "\n",
    "rep_x = df_l_x.loc[df_l_x['Time_Stamp (s)'].isin(rep_f.Time_Stamp.values)]\n",
    "time = rep_f['Time_Stamp'].values\n",
    "rep_y= rep_y.drop('Time_Stamp (s)', axis =1)\n",
    "rep_x= rep_x.drop('Time_Stamp (s)', axis =1)\n",
    "\n",
    "rep_x = rep_x.transpose()\n",
    "\n",
    "rep_y = rep_y.transpose()\n",
    "\n",
    "speed = rep_f['O'].values\n",
    "print(rep_f.shape)\n",
    "print(rep_x.transpose().shape)\n",
    "print(rep_y.shape)\n",
    "print(len(speed))\n",
    "print(len(time))"
   ]
  },
  {
   "cell_type": "code",
   "execution_count": 9,
   "metadata": {},
   "outputs": [
    {
     "data": {
      "text/plain": [
       "array([1.05807395, 1.1524939 , 2.02812519, 2.18333408, 2.54330865,\n",
       "       2.65688498, 2.81747824, 2.81450451, 2.81051933, 2.8104732 ,\n",
       "       2.72286817, 2.7179265 , 2.63051845, 2.52970635, 2.19416667,\n",
       "       2.18139178, 2.09576974, 2.00826434, 1.67624732, 1.14365184,\n",
       "       1.05749855, 1.07029432, 1.04910242, 1.0705944 , 1.05693934,\n",
       "       2.19840031, 2.5394663 , 2.88709128, 2.88709128, 2.8896319 ,\n",
       "       2.8896319 , 2.45548596, 1.94118789, 1.50829631, 1.23151006,\n",
       "       1.23162563, 1.24027377, 1.84958479, 2.19696933, 2.19696933,\n",
       "       2.2076759 , 2.11513599, 2.02731948, 2.02731948, 2.10205347,\n",
       "       2.19857991, 2.21119822, 2.28590417, 2.29718469, 2.46032495,\n",
       "       2.54775345, 2.54775345, 2.54775345, 2.45978992, 2.02273818,\n",
       "       1.67456661, 1.33825472, 1.25476724, 1.22632113, 1.22632113,\n",
       "       1.22632113, 1.46364311, 1.92287301, 2.19669369, 2.19669369,\n",
       "       2.1858001 , 1.74770376, 1.33722299, 1.32559725, 1.32559725,\n",
       "       1.32634881, 1.94303611, 2.11808356, 2.11808356, 2.11808356,\n",
       "       2.02779288, 1.92733976, 1.94356854, 1.85883182, 1.84764259,\n",
       "       1.61074846, 1.51437267])"
      ]
     },
     "execution_count": 9,
     "metadata": {},
     "output_type": "execute_result"
    }
   ],
   "source": [
    "speed"
   ]
  },
  {
   "cell_type": "code",
   "execution_count": 10,
   "metadata": {},
   "outputs": [
    {
     "data": {
      "image/png": "[encoded data removed]",
      "text/plain": [
       "<Figure size 1440x720 with 2 Axes>"
      ]
     },
     "metadata": {
      "needs_background": "light"
     },
     "output_type": "display_data"
    },
    {
     "data": {
      "text/plain": [
       "<Figure size 432x288 with 0 Axes>"
      ]
     },
     "metadata": {},
     "output_type": "display_data"
    },
    {
     "data": {
      "text/plain": [
       "<Figure size 432x288 with 0 Axes>"
      ]
     },
     "metadata": {},
     "output_type": "display_data"
    },
    {
     "data": {
      "text/plain": [
       "<Figure size 432x288 with 0 Axes>"
      ]
     },
     "metadata": {},
     "output_type": "display_data"
    },
    {
     "data": {
      "text/plain": [
       "<Figure size 432x288 with 0 Axes>"
      ]
     },
     "metadata": {},
     "output_type": "display_data"
    },
    {
     "data": {
      "text/plain": [
       "<Figure size 432x288 with 0 Axes>"
      ]
     },
     "metadata": {},
     "output_type": "display_data"
    },
    {
     "data": {
      "text/plain": [
       "<Figure size 432x288 with 0 Axes>"
      ]
     },
     "metadata": {},
     "output_type": "display_data"
    },
    {
     "data": {
      "text/plain": [
       "<Figure size 432x288 with 0 Axes>"
      ]
     },
     "metadata": {},
     "output_type": "display_data"
    },
    {
     "data": {
      "text/plain": [
       "<Figure size 432x288 with 0 Axes>"
      ]
     },
     "metadata": {},
     "output_type": "display_data"
    },
    {
     "data": {
      "text/plain": [
       "<Figure size 432x288 with 0 Axes>"
      ]
     },
     "metadata": {},
     "output_type": "display_data"
    },
    {
     "data": {
      "text/plain": [
       "<Figure size 432x288 with 0 Axes>"
      ]
     },
     "metadata": {},
     "output_type": "display_data"
    },
    {
     "data": {
      "text/plain": [
       "<Figure size 432x288 with 0 Axes>"
      ]
     },
     "metadata": {},
     "output_type": "display_data"
    },
    {
     "data": {
      "text/plain": [
       "<Figure size 432x288 with 0 Axes>"
      ]
     },
     "metadata": {},
     "output_type": "display_data"
    },
    {
     "data": {
      "text/plain": [
       "<Figure size 432x288 with 0 Axes>"
      ]
     },
     "metadata": {},
     "output_type": "display_data"
    },
    {
     "data": {
      "text/plain": [
       "<Figure size 432x288 with 0 Axes>"
      ]
     },
     "metadata": {},
     "output_type": "display_data"
    },
    {
     "data": {
      "text/plain": [
       "<Figure size 432x288 with 0 Axes>"
      ]
     },
     "metadata": {},
     "output_type": "display_data"
    },
    {
     "data": {
      "text/plain": [
       "<Figure size 432x288 with 0 Axes>"
      ]
     },
     "metadata": {},
     "output_type": "display_data"
    },
    {
     "data": {
      "text/plain": [
       "<Figure size 432x288 with 0 Axes>"
      ]
     },
     "metadata": {},
     "output_type": "display_data"
    },
    {
     "data": {
      "text/plain": [
       "<Figure size 432x288 with 0 Axes>"
      ]
     },
     "metadata": {},
     "output_type": "display_data"
    },
    {
     "data": {
      "text/plain": [
       "<Figure size 432x288 with 0 Axes>"
      ]
     },
     "metadata": {},
     "output_type": "display_data"
    },
    {
     "data": {
      "text/plain": [
       "<Figure size 432x288 with 0 Axes>"
      ]
     },
     "metadata": {},
     "output_type": "display_data"
    },
    {
     "data": {
      "text/plain": [
       "<Figure size 432x288 with 0 Axes>"
      ]
     },
     "metadata": {},
     "output_type": "display_data"
    },
    {
     "data": {
      "text/plain": [
       "<Figure size 432x288 with 0 Axes>"
      ]
     },
     "metadata": {},
     "output_type": "display_data"
    },
    {
     "data": {
      "text/plain": [
       "<Figure size 432x288 with 0 Axes>"
      ]
     },
     "metadata": {},
     "output_type": "display_data"
    },
    {
     "data": {
      "text/plain": [
       "<Figure size 432x288 with 0 Axes>"
      ]
     },
     "metadata": {},
     "output_type": "display_data"
    },
    {
     "data": {
      "text/plain": [
       "<Figure size 432x288 with 0 Axes>"
      ]
     },
     "metadata": {},
     "output_type": "display_data"
    },
    {
     "data": {
      "text/plain": [
       "<Figure size 432x288 with 0 Axes>"
      ]
     },
     "metadata": {},
     "output_type": "display_data"
    },
    {
     "data": {
      "text/plain": [
       "<Figure size 432x288 with 0 Axes>"
      ]
     },
     "metadata": {},
     "output_type": "display_data"
    },
    {
     "data": {
      "text/plain": [
       "<Figure size 432x288 with 0 Axes>"
      ]
     },
     "metadata": {},
     "output_type": "display_data"
    },
    {
     "data": {
      "text/plain": [
       "<Figure size 432x288 with 0 Axes>"
      ]
     },
     "metadata": {},
     "output_type": "display_data"
    },
    {
     "data": {
      "text/plain": [
       "<Figure size 432x288 with 0 Axes>"
      ]
     },
     "metadata": {},
     "output_type": "display_data"
    },
    {
     "data": {
      "text/plain": [
       "<Figure size 432x288 with 0 Axes>"
      ]
     },
     "metadata": {},
     "output_type": "display_data"
    },
    {
     "data": {
      "text/plain": [
       "<Figure size 432x288 with 0 Axes>"
      ]
     },
     "metadata": {},
     "output_type": "display_data"
    },
    {
     "data": {
      "text/plain": [
       "<Figure size 432x288 with 0 Axes>"
      ]
     },
     "metadata": {},
     "output_type": "display_data"
    },
    {
     "data": {
      "text/plain": [
       "<Figure size 432x288 with 0 Axes>"
      ]
     },
     "metadata": {},
     "output_type": "display_data"
    },
    {
     "data": {
      "text/plain": [
       "<Figure size 432x288 with 0 Axes>"
      ]
     },
     "metadata": {},
     "output_type": "display_data"
    },
    {
     "data": {
      "text/plain": [
       "<Figure size 432x288 with 0 Axes>"
      ]
     },
     "metadata": {},
     "output_type": "display_data"
    },
    {
     "data": {
      "text/plain": [
       "<Figure size 432x288 with 0 Axes>"
      ]
     },
     "metadata": {},
     "output_type": "display_data"
    },
    {
     "data": {
      "text/plain": [
       "<Figure size 432x288 with 0 Axes>"
      ]
     },
     "metadata": {},
     "output_type": "display_data"
    },
    {
     "data": {
      "text/plain": [
       "<Figure size 432x288 with 0 Axes>"
      ]
     },
     "metadata": {},
     "output_type": "display_data"
    },
    {
     "data": {
      "text/plain": [
       "<Figure size 432x288 with 0 Axes>"
      ]
     },
     "metadata": {},
     "output_type": "display_data"
    },
    {
     "data": {
      "text/plain": [
       "<Figure size 432x288 with 0 Axes>"
      ]
     },
     "metadata": {},
     "output_type": "display_data"
    },
    {
     "data": {
      "text/plain": [
       "<Figure size 432x288 with 0 Axes>"
      ]
     },
     "metadata": {},
     "output_type": "display_data"
    },
    {
     "data": {
      "text/plain": [
       "<Figure size 432x288 with 0 Axes>"
      ]
     },
     "metadata": {},
     "output_type": "display_data"
    },
    {
     "data": {
      "text/plain": [
       "<Figure size 432x288 with 0 Axes>"
      ]
     },
     "metadata": {},
     "output_type": "display_data"
    },
    {
     "data": {
      "text/plain": [
       "<Figure size 432x288 with 0 Axes>"
      ]
     },
     "metadata": {},
     "output_type": "display_data"
    },
    {
     "data": {
      "text/plain": [
       "<Figure size 432x288 with 0 Axes>"
      ]
     },
     "metadata": {},
     "output_type": "display_data"
    },
    {
     "data": {
      "text/plain": [
       "<Figure size 432x288 with 0 Axes>"
      ]
     },
     "metadata": {},
     "output_type": "display_data"
    },
    {
     "data": {
      "text/plain": [
       "<Figure size 432x288 with 0 Axes>"
      ]
     },
     "metadata": {},
     "output_type": "display_data"
    },
    {
     "data": {
      "text/plain": [
       "<Figure size 432x288 with 0 Axes>"
      ]
     },
     "metadata": {},
     "output_type": "display_data"
    },
    {
     "data": {
      "text/plain": [
       "<Figure size 432x288 with 0 Axes>"
      ]
     },
     "metadata": {},
     "output_type": "display_data"
    },
    {
     "data": {
      "text/plain": [
       "<Figure size 432x288 with 0 Axes>"
      ]
     },
     "metadata": {},
     "output_type": "display_data"
    },
    {
     "data": {
      "text/plain": [
       "<Figure size 432x288 with 0 Axes>"
      ]
     },
     "metadata": {},
     "output_type": "display_data"
    },
    {
     "data": {
      "text/plain": [
       "<Figure size 432x288 with 0 Axes>"
      ]
     },
     "metadata": {},
     "output_type": "display_data"
    },
    {
     "data": {
      "text/plain": [
       "<Figure size 432x288 with 0 Axes>"
      ]
     },
     "metadata": {},
     "output_type": "display_data"
    },
    {
     "data": {
      "text/plain": [
       "<Figure size 432x288 with 0 Axes>"
      ]
     },
     "metadata": {},
     "output_type": "display_data"
    },
    {
     "data": {
      "text/plain": [
       "<Figure size 432x288 with 0 Axes>"
      ]
     },
     "metadata": {},
     "output_type": "display_data"
    },
    {
     "data": {
      "text/plain": [
       "<Figure size 432x288 with 0 Axes>"
      ]
     },
     "metadata": {},
     "output_type": "display_data"
    },
    {
     "data": {
      "text/plain": [
       "<Figure size 432x288 with 0 Axes>"
      ]
     },
     "metadata": {},
     "output_type": "display_data"
    },
    {
     "data": {
      "text/plain": [
       "<Figure size 432x288 with 0 Axes>"
      ]
     },
     "metadata": {},
     "output_type": "display_data"
    },
    {
     "data": {
      "text/plain": [
       "<Figure size 432x288 with 0 Axes>"
      ]
     },
     "metadata": {},
     "output_type": "display_data"
    },
    {
     "data": {
      "text/plain": [
       "<Figure size 432x288 with 0 Axes>"
      ]
     },
     "metadata": {},
     "output_type": "display_data"
    },
    {
     "data": {
      "text/plain": [
       "<Figure size 432x288 with 0 Axes>"
      ]
     },
     "metadata": {},
     "output_type": "display_data"
    },
    {
     "data": {
      "text/plain": [
       "<Figure size 432x288 with 0 Axes>"
      ]
     },
     "metadata": {},
     "output_type": "display_data"
    },
    {
     "data": {
      "text/plain": [
       "<Figure size 432x288 with 0 Axes>"
      ]
     },
     "metadata": {},
     "output_type": "display_data"
    },
    {
     "data": {
      "text/plain": [
       "<Figure size 432x288 with 0 Axes>"
      ]
     },
     "metadata": {},
     "output_type": "display_data"
    },
    {
     "data": {
      "text/plain": [
       "<Figure size 432x288 with 0 Axes>"
      ]
     },
     "metadata": {},
     "output_type": "display_data"
    },
    {
     "data": {
      "text/plain": [
       "<Figure size 432x288 with 0 Axes>"
      ]
     },
     "metadata": {},
     "output_type": "display_data"
    },
    {
     "data": {
      "text/plain": [
       "<Figure size 432x288 with 0 Axes>"
      ]
     },
     "metadata": {},
     "output_type": "display_data"
    },
    {
     "data": {
      "text/plain": [
       "<Figure size 432x288 with 0 Axes>"
      ]
     },
     "metadata": {},
     "output_type": "display_data"
    },
    {
     "data": {
      "text/plain": [
       "<Figure size 432x288 with 0 Axes>"
      ]
     },
     "metadata": {},
     "output_type": "display_data"
    },
    {
     "data": {
      "text/plain": [
       "<Figure size 432x288 with 0 Axes>"
      ]
     },
     "metadata": {},
     "output_type": "display_data"
    },
    {
     "data": {
      "text/plain": [
       "<Figure size 432x288 with 0 Axes>"
      ]
     },
     "metadata": {},
     "output_type": "display_data"
    },
    {
     "data": {
      "text/plain": [
       "<Figure size 432x288 with 0 Axes>"
      ]
     },
     "metadata": {},
     "output_type": "display_data"
    },
    {
     "data": {
      "text/plain": [
       "<Figure size 432x288 with 0 Axes>"
      ]
     },
     "metadata": {},
     "output_type": "display_data"
    },
    {
     "data": {
      "text/plain": [
       "<Figure size 432x288 with 0 Axes>"
      ]
     },
     "metadata": {},
     "output_type": "display_data"
    },
    {
     "data": {
      "text/plain": [
       "<Figure size 432x288 with 0 Axes>"
      ]
     },
     "metadata": {},
     "output_type": "display_data"
    },
    {
     "data": {
      "text/plain": [
       "<Figure size 432x288 with 0 Axes>"
      ]
     },
     "metadata": {},
     "output_type": "display_data"
    },
    {
     "data": {
      "text/plain": [
       "<Figure size 432x288 with 0 Axes>"
      ]
     },
     "metadata": {},
     "output_type": "display_data"
    },
    {
     "data": {
      "text/plain": [
       "<Figure size 432x288 with 0 Axes>"
      ]
     },
     "metadata": {},
     "output_type": "display_data"
    },
    {
     "data": {
      "text/plain": [
       "<Figure size 432x288 with 0 Axes>"
      ]
     },
     "metadata": {},
     "output_type": "display_data"
    },
    {
     "name": "stdout",
     "output_type": "stream",
     "text": [
      "ET: 6.538690090179443\n"
     ]
    }
   ],
   "source": [
    "plot_kinematics(rep_x.values, rep_y.values,48 , speed, True)"
   ]
  },
  {
   "cell_type": "code",
   "execution_count": 11,
   "metadata": {},
   "outputs": [
    {
     "name": "stdout",
     "output_type": "stream",
     "text": [
      "Index(['Unnamed: 0', 'subject_id', 'rep', 'task', 'type', 'Time_Stamp', 'O',\n",
      "       'vO', 'aO', 'jO', 'W', 'vW', 'aW', 'jW', 'LL', 'vLL', 'aLL', 'jLL',\n",
      "       'RC', 'vRC', 'aRC', 'jRC', 'LC', 'vLC', 'aLC', 'jLC', 'RJ', 'vRJ',\n",
      "       'aRJ', 'jRJ', 'LJ', 'vLJ', 'aLJ', 'jLJ', 'RC_2', 'vRC_2', 'aRC_2',\n",
      "       'jRC_2', 'LC_2', 'vLC_2', 'aLC_2', 'jLC_2', 'A_MOUTH', 'rA_MOUTH',\n",
      "       'lA_MOUTH', 'A_Mouth_diff', 'A_JAW', 'rA_JAW', 'lA_JAW', 'A_JAW_diff',\n",
      "       'e'],\n",
      "      dtype='object')\n"
     ]
    }
   ],
   "source": [
    "print(features)"
   ]
  },
  {
   "cell_type": "code",
   "execution_count": 12,
   "metadata": {},
   "outputs": [
    {
     "data": {
      "text/plain": [
       "array([0, 1, 2, 3, 4, 5, 6, 7, 8, 9])"
      ]
     },
     "execution_count": 12,
     "metadata": {},
     "output_type": "execute_result"
    }
   ],
   "source": [
    "df_f['rep'].unique()"
   ]
  },
  {
   "cell_type": "code",
   "execution_count": 20,
   "metadata": {},
   "outputs": [
    {
     "data": {
      "text/plain": [
       "<matplotlib.legend.Legend at 0x1a20db4f28>"
      ]
     },
     "execution_count": 20,
     "metadata": {},
     "output_type": "execute_result"
    },
    {
     "data": {
      "image/png": "[encoded data removed]",
      "text/plain": [
       "<Figure size 432x288 with 1 Axes>"
      ]
     },
     "metadata": {
      "needs_background": "light"
     },
     "output_type": "display_data"
    },
    {
     "data": {
      "image/png": "[encoded data removed]",
      "text/plain": [
       "<Figure size 432x288 with 1 Axes>"
      ]
     },
     "metadata": {
      "needs_background": "light"
     },
     "output_type": "display_data"
    },
    {
     "data": {
      "image/png": "[encoded data removed]",
      "text/plain": [
       "<Figure size 432x288 with 1 Axes>"
      ]
     },
     "metadata": {
      "needs_background": "light"
     },
     "output_type": "display_data"
    }
   ],
   "source": [
    "# Plot the reps of a specific feature\n",
    "# As well as the time derivatives \n",
    "\n",
    "feature = 'O'\n",
    "\n",
    "# REP can be between 0 to 9\n",
    "rep = 1\n",
    "\n",
    "\n",
    "#for rep in df_f['rep'].unique():\n",
    "rep_f = df_f.loc[df_f['rep']==rep]\n",
    "plt.figure()\n",
    "plt.plot(rep_f[feature],'b')\n",
    "plt.xlabel('Frames')\n",
    "plt.ylabel('Range of Motion (cm)')\n",
    "\n",
    "\n",
    "plt.figure()\n",
    "vf = \"v\" + feature\n",
    "af = \"a\" + feature\n",
    "jf = 'j'+ feature\n",
    "plt.plot(rep_f[vf],'r')\n",
    "plt.xlabel('Frames')\n",
    "plt.ylabel('Velocity (cm/sec)')\n",
    "plt.figure()\n",
    "plt.plot(rep_f[af],'b', label='acceleration signal')\n",
    "plt.plot(rep_f[jf],'r',label='jerk signal')\n",
    "plt.legend(loc=\"upper right\")"
   ]
  },
  {
   "cell_type": "code",
   "execution_count": 14,
   "metadata": {},
   "outputs": [
    {
     "ename": "SyntaxError",
     "evalue": "'break' outside loop (<ipython-input-14-6aaf1f276005>, line 4)",
     "output_type": "error",
     "traceback": [
      "\u001b[0;36m  File \u001b[0;32m\"<ipython-input-14-6aaf1f276005>\"\u001b[0;36m, line \u001b[0;32m4\u001b[0m\n\u001b[0;31mSyntaxError\u001b[0m\u001b[0;31m:\u001b[0m 'break' outside loop\n"
     ]
    }
   ],
   "source": [
    "break"
   ]
  },
  {
   "cell_type": "markdown",
   "metadata": {},
   "source": [
    "# Model data "
   ]
  },
  {
   "cell_type": "code",
   "execution_count": null,
   "metadata": {},
   "outputs": [],
   "source": []
  },
  {
   "cell_type": "code",
   "execution_count": null,
   "metadata": {},
   "outputs": [],
   "source": []
  },
  {
   "cell_type": "code",
   "execution_count": null,
   "metadata": {},
   "outputs": [],
   "source": []
  },
  {
   "cell_type": "code",
   "execution_count": null,
   "metadata": {},
   "outputs": [],
   "source": [
    "# Create a VideoCapture object and read from input file\n",
    "# If the input is the camera, pass 0 instead of the video file name\n",
    "\n",
    "input_video_file = \"/Users/denizjafari/documents/CODE/ClinicalScore/ClinicalScore/video_files/A009_02_NSM_SPREAD_landmarksFiltered.avi\"\n",
    "cap = cv2.VideoCapture(input_video_file)\n",
    "\n",
    "# Check if camera opened successfully\n",
    "\n",
    "if (cap.isOpened()== False):  \n",
    "    print(\"Error opening video stream or file\")\n",
    "\n",
    " \n",
    "\n",
    "# Read until video is completed\n",
    "\n",
    "while(cap.isOpened()):\n",
    "\n",
    "  # Capture frame-by-frame\n",
    "\n",
    "    ret, frame = cap.read()\n",
    "    \n",
    "    if ret == True:\n",
    "\n",
    "    # Display the resulting frame\n",
    "\n",
    "        cv2.imshow('Frame',frame)\n",
    "\n",
    "    # Press Q on keyboard to  exit\n",
    "\n",
    "        if cv2.waitKey(25) & 0xFF == ord('q'):\n",
    "            break\n",
    "\n",
    "  # Break the loop\n",
    "    else: \n",
    "        break\n",
    "\n",
    "# When everything done, release the video capture object\n",
    "\n",
    "cap.release()\n",
    "\n",
    "# Closes all the frames\n",
    "\n",
    "cv2.destroyAllWindows()\n"
   ]
  },
  {
   "cell_type": "markdown",
   "metadata": {},
   "source": [
    "# Plot some raw data "
   ]
  },
  {
   "cell_type": "code",
   "execution_count": null,
   "metadata": {},
   "outputs": [],
   "source": []
  },
  {
   "cell_type": "markdown",
   "metadata": {},
   "source": [
    "## Defining the fuctions to be tested for feature engineering "
   ]
  },
  {
   "cell_type": "code",
   "execution_count": null,
   "metadata": {},
   "outputs": [],
   "source": [
    "def area_of_triangle(A,B,C):\n",
    "\n",
    "    \"\"\"\n",
    "    computes the area of a triangle given by 3 points in 2d or 3d\n",
    "\n",
    "    A, B and C must be numpy arrays\n",
    "\n",
    "    it works with vectors A=[a1,a2,a3], B=[b1,b2,b3], c=[c1,c2,c3] or matrices\n",
    "\n",
    "    A=[[a11,a12,a13],...[a1n,a2n,b3n]], B=[[b11,b12,b13],...[b1n,b2n,b3n]], C=[[c11,c12,c13],...[c1n,c2n,c3n]]\n",
    "\n",
    "    \"\"\"\n",
    "\n",
    "    As = A.shape\n",
    "    Bs = B.shape\n",
    "    Cs = C.shape\n",
    "   \n",
    "    if len(As) == 1 :\n",
    "\n",
    "        #we got vectors\n",
    "\n",
    "        if (As[0]>3) or (Bs[0]>3) or (Cs[0]>3):\n",
    "\n",
    "            raise Exception('coordinates can only be 2d or 3d')\n",
    "\n",
    "            return None\n",
    "\n",
    "    else:\n",
    "\n",
    "        #check at least one of the dimensions is two or three\n",
    "        if (As[0]==2) or (As[0]==3) or (As[1]==2) or (As[1]==3):\n",
    "\n",
    "            #one of the dimensions of A is 2 or 3, now check that all the vectors have the same size\n",
    "            if (As!=Bs) or (As!=Cs):\n",
    "\n",
    "                raise Exception('vectors must be the same size')\n",
    "                return None\n",
    "\n",
    "            else:\n",
    "                #move forward\n",
    "                pass\n",
    "\n",
    "        else:\n",
    "\n",
    "            raise Exception('coordinates can only be 2d or 3d')\n",
    "\n",
    "            return None\n",
    "\n",
    "    #at this point we know that one of the dimensions has 2 or 3 elements we move forward assuming that\n",
    "    #the user provided the vectors with the correct size\n",
    "    #move all vectors to the same origin\n",
    "\n",
    "    AB = B-A\n",
    "    AC = C-A  \n",
    "\n",
    "    if len(As) == 1 :\n",
    "\n",
    "        #if only one vector the simply compute the norm of the cross product\n",
    "        area = (1/2)*np.linalg.norm(np.cross(AB,AC))\n",
    "\n",
    "    else:\n",
    "\n",
    "        #if only multiple vectors compute the norm along the axis one\n",
    "        area = (1/2)*np.linalg.norm(np.cross(AB,AC), axis = 1)   \n",
    "\n",
    "    return area\n",
    "\n",
    "def lipDist(DF):\n",
    "    \n",
    "    # Assumes columns are named in a particular way \n",
    "    \n",
    "    DF['Horiz_Lip_Motion'] = DF.apply(lambda row: math.sqrt((row.X_LLeft - row.X_LR)**2 + (row.Y_LLeft - row.Y_LR)**2\n",
    "                                                                  + (row.Z_LLeft - row.Z_LR)**2), axis = 1) \n",
    "    DF['Vert_Lip_Motion'] = DF.apply(lambda row: math.sqrt((row.X_UL - row.X_LL)**2 + (row.Y_UL - row.Y_LL)**2 +\n",
    "                                                                 (row.Z_UL - row.Z_LL)**2), axis = 1)\n",
    "    return DF"
   ]
  },
  {
   "cell_type": "code",
   "execution_count": null,
   "metadata": {},
   "outputs": [],
   "source": [
    "# Signal Processing\n",
    "\n",
    "# sampling frequency set to 100 HZ\n",
    "fsample = 100\n",
    "\n",
    "def sig_shift(signal, amount):\n",
    "    length = len(signal)    \n",
    "    shifted = np.zeros(length+amount - 1)\n",
    "    shifted[:amount-1] = 0\n",
    "    shifted[amount-1:] = signal[:]\n",
    "    return shifted\n",
    "\n",
    "def sig_norm(signal):\n",
    "    signal_mean = np.mean(signal)\n",
    "    signal_normalised = signal - signal_mean\n",
    "    return signal_normalised\n",
    "\n",
    "# Butterworth filter 8-order, 15hz cutoff\n",
    "fc = 15\n",
    "w = fc / (fsample/2)\n",
    "b , a = signal.butter(8, w, btype ='lowpass')"
   ]
  },
  {
   "cell_type": "code",
   "execution_count": null,
   "metadata": {},
   "outputs": [],
   "source": [
    "def rom(list_of_arrays):\n",
    "\n",
    "    \n",
    "    reps_max_values = np.array([np.max(array) for array in list_of_arrays])\n",
    "    reps_min_values = np.array([np.min(array) for array in list_of_arrays])\n",
    "    \n",
    "    \n",
    "    ROM = reps_max_values - reps_min_values\n",
    "    \n",
    "    return ROM"
   ]
  },
  {
   "cell_type": "markdown",
   "metadata": {},
   "source": [
    "### Reading, Cleaning, and Preprocessing DATA"
   ]
  },
  {
   "cell_type": "code",
   "execution_count": null,
   "metadata": {},
   "outputs": [],
   "source": [
    "Tasks = ['REST', 'OPEN', 'SPREAD', 'BIG_SMILE', 'PA', 'BBP', 'PUCKER', 'KISS']\n",
    "\n",
    "TASK_DFS_VIDEO_LIST = list()"
   ]
  },
  {
   "cell_type": "code",
   "execution_count": null,
   "metadata": {},
   "outputs": [],
   "source": [
    "#####   VIDEO DATA   ######\n",
    "\n",
    "# read the wave data files of the chosen task into dfs and store them all in a list \n",
    "path_v = r'C:\\Users\\jafarid\\Documents\\Code\\ValidationStudy\\video_data_processed'\n",
    "ext_v=('_Landmarks3D.csv')\n",
    "Files_v = os.listdir(path_v)           \n",
    "Files_v = [i for i in Files_v if i.endswith(ext_v)]\n",
    "\n",
    "for i in range(0, len(Files_v)):\n",
    "    # choose which task to focus on \n",
    "    if Task in Files_v[i]:\n",
    "        df = pd.read_csv(path_v+ \"\\\\\" + Files_v[i])\n",
    "        df =  df.drop([0]) \n",
    "        df = cleaning_video_df(df)\n",
    "        # depending on the file we are reading the indexing below needs to change \n",
    "        df['FileName'] = Files_v[i][12:-16]\n",
    "        df['PatientID'] = Files_v[i][:2]\n",
    "        df['DataDATE'] = Files_v[i][5:13]\n",
    "        df['Task'] = Task\n",
    "        for condition in Conditions:\n",
    "            if condition in Files_v[i]:\n",
    "                df['Condition'] = condition\n",
    "\n",
    "            if 'Condition' not in df.columns:\n",
    "                df['Condition'] = 'NORMAL'\n",
    "                \n",
    "\n",
    "        # preprocessing, using the cubic interpolation to fill in the missing data \n",
    "        df = df.interpolate(method ='cubic', limit_direction ='forward') \n",
    "        df = lipDist(df)\n",
    "\n",
    "        left_area = area_of_triangle(df[[\"X_LLeft\", \"Y_LLeft\", \"Z_LLeft\"]].values, df[[\"X_UL\",  \"Y_UL\",\"Z_UL\"]].values, \n",
    "                                       df[[\"X_LL\", \"Y_LL\", \"Z_LL\"]].values)\n",
    "        df['Area_Left'] = np.array(left_area)\n",
    "        right_area = area_of_triangle(df[[\"X_LR\", \"Y_LR\",\"Z_LR\"]].values, df[[\"X_UL\",  \"Y_UL\",\"Z_UL\"]].values, \n",
    "                                        df[[ \"X_LL\", \"Y_LL\", \"Z_LL\"]].values)\n",
    "        df['Area_Right'] =  np.array(right_area)        \n",
    "        df[\"Area_Ratio\"] = df.apply(lambda row: row.Area_Left/row.Area_Right, axis = 1)\n",
    "        \n",
    "        \n",
    "        \n",
    "        df['Vert_Lip_Motion_F1']= signal.filtfilt(b, a, df['Vert_Lip_Motion'])\n",
    "        df['Horiz_Lip_Motion_F1'] = signal.filtfilt(b, a, df['Horiz_Lip_Motion'])\n",
    "        df[\"Speed\"] = np.gradient(df['Horiz_Lip_Motion'], df[\"Time\"])\n",
    "        \n",
    "        #df['Vert_Lip_Motion_F1']= gaussian_filter(df['Vert_Lip_Motion'], sigma=3)\n",
    "        #df['Horiz_Lip_Motion_F1']= gaussian_filter(df['Horiz_Lip_Motion'], sigma=3)\n",
    "        #df[\"Speed_F1\"] = gaussian_filter(np.gradient(df['Horiz_Lip_Motion_F1'], df[\"Time\"]), 3)\n",
    "        \n",
    "        # Butterworth filter 8-order, 15hz cutoff\n",
    "        #df['Vert_Lip_Motion_F2']= signal.filtfilt(b, a, df['Vert_Lip_Motion'])\n",
    "        #df['Horiz_Lip_Motion_F2']= signal.filtfilt(b, a, df['Horiz_Lip_Motion'])\n",
    "        df['Area_Right']= signal.filtfilt(b, a, df['Area_Right'])\n",
    "        df['Area_Left']= signal.filtfilt(b, a, df['Area_Left'])\n",
    "        #df[\"Speed_F2\"] = signal.filtfilt(b, a, np.gradient(df['Horiz_Lip_Motion'], df[\"Time\"]))\n",
    "        \n",
    "        TASK_DFS_VIDEO_LIST.append(df)\n",
    "        print(Files_v[i][12:-16])\n",
    "\n",
    "    \n"
   ]
  },
  {
   "cell_type": "code",
   "execution_count": null,
   "metadata": {},
   "outputs": [],
   "source": [
    "plt.plot(TASK_DFS_VIDEO_LIST[0]['Area_Left'],'r')\n",
    "plt.plot(TASK_DFS_VIDEO_LIST[0]['Area_Right'],'b')"
   ]
  },
  {
   "cell_type": "code",
   "execution_count": null,
   "metadata": {},
   "outputs": [],
   "source": [
    "TASK_DFS_VIDEO_100HZ_LIST = list()"
   ]
  },
  {
   "cell_type": "code",
   "execution_count": null,
   "metadata": {},
   "outputs": [],
   "source": [
    "# Upsampling to 100Hz for the video data\n",
    "for DF_VIDEO in TASK_DFS_VIDEO_LIST:\n",
    "    WAVE_100HZ = pd.DataFrame()\n",
    "    tmax = len(DF_VIDEO.Time) - 1\n",
    "    tmax_value = DF_VIDEO.Time[tmax]\n",
    "    tmin_value = DF_VIDEO.Time[1]\n",
    "    nsample = fsample*(tmax_value - tmin_value)\n",
    "    nsample = math.ceil(nsample)\n",
    "    perfect_time = np.linspace(tmin_value, tmax_value, num= nsample, endpoint=True)\n",
    "    WAVE_100HZ['Time'] = perfect_time\n",
    "    f_motion = interp1d(DF_VIDEO.Time, DF_VIDEO['Vert_Lip_Motion_F1'], kind = 'linear')\n",
    "    WAVE_100HZ['Vert_Lip_Motion'] = f_motion(perfect_time)\n",
    "    f_motion2 = interp1d(DF_VIDEO.Time, DF_VIDEO['Horiz_Lip_Motion_F1'], kind = 'linear')\n",
    "    WAVE_100HZ['Horiz_Lip_Motion'] = f_motion2(perfect_time)\n",
    "    f_speed = interp1d(DF_VIDEO.Time, DF_VIDEO['Speed'], kind = 'linear')\n",
    "    WAVE_100HZ['Speed'] = f_speed(perfect_time)\n",
    "    WAVE_100HZ['FileName'] = DF_VIDEO['FileName'][1]\n",
    "    WAVE_100HZ['PatientID'] = DF_VIDEO['PatientID'][1]\n",
    "    TASK_DFS_VIDEO_100HZ_LIST.append(WAVE_100HZ)\n",
    "    #print(len(DF_VIDEO['Horiz_Lip_Motion_F1']))\n",
    "    #print(len(WAVE_100HZ['Horiz_Lip_Motion']))\n",
    "    #print()"
   ]
  },
  {
   "cell_type": "code",
   "execution_count": null,
   "metadata": {},
   "outputs": [],
   "source": [
    "plt.plot(TASK_DFS_VIDEO_100HZ_LIST[0]['Horiz_Lip_Motion'],'r')\n",
    "plt.plot(TASK_DFS_WAVE_100HZ_LIST[3]['Horiz_Lip_Motion'],'b')"
   ]
  },
  {
   "cell_type": "code",
   "execution_count": null,
   "metadata": {},
   "outputs": [],
   "source": [
    "print(len(TASK_DFS_VIDEO_100HZ_LIST))\n",
    "print(len(TASK_DFS_WAVE_100HZ_LIST))"
   ]
  },
  {
   "cell_type": "code",
   "execution_count": null,
   "metadata": {},
   "outputs": [],
   "source": [
    "sn_pc = list()\n",
    "sh_pc = list()\n",
    "\n",
    "sn_rms_list = list()\n",
    "sh_rms_list = list()\n",
    "\n",
    "Final_DFS_LIST = list()"
   ]
  },
  {
   "cell_type": "code",
   "execution_count": null,
   "metadata": {},
   "outputs": [],
   "source": [
    "for i in range(len(TASK_DFS_WAVE_100HZ_LIST)):\n",
    "    for j in range(len(TASK_DFS_VIDEO_100HZ_LIST)):\n",
    "        if TASK_DFS_WAVE_100HZ_LIST[i]['PatientID'][1]== TASK_DFS_VIDEO_100HZ_LIST[j]['PatientID'][1]:\n",
    "            if TASK_DFS_WAVE_100HZ_LIST[i]['FileName'][1]== TASK_DFS_VIDEO_100HZ_LIST[j]['FileName'][1]:\n",
    "                print(TASK_DFS_WAVE_100HZ_LIST[i]['FileName'][1])\n",
    "                print('Wave index:{}'.format(i))\n",
    "                print('Video index:{}'.format(j))\n",
    "                result = pd.DataFrame() \n",
    "\n",
    "                video_n = sig_norm(TASK_DFS_VIDEO_100HZ_LIST[j]['Horiz_Lip_Motion'])\n",
    "                wave_n = sig_norm(TASK_DFS_WAVE_100HZ_LIST[i]['Horiz_Lip_Motion'])\n",
    "                time = TASK_DFS_WAVE_100HZ_LIST[i]['Time'].values\n",
    "                time_w = TASK_DFS_WAVE_100HZ_LIST[i]['Time'].values\n",
    "                time_v = TASK_DFS_WAVE_100HZ_LIST[i]['Time'].values\n",
    "                \n",
    "                if len(video_n)<=len(wave_n):\n",
    "                    upper_bound = len(video_n) \n",
    "                else: \n",
    "                    upper_bound = len(wave_n) \n",
    "\n",
    "               \n",
    "\n",
    "                s = phase_align(wave_n, video_n, [5,upper_bound])\n",
    "                print('The phase shift is:{}'.format(s))\n",
    "\n",
    "                sp = math.ceil(s)\n",
    "\n",
    "\n",
    "                video_shifted = sig_shift(TASK_DFS_VIDEO_100HZ_LIST[j]['Horiz_Lip_Motion'],sp)\n",
    "                video_n_s = sig_shift( video_n,sp)\n",
    "                video_speed_shifted = sig_shift(TASK_DFS_VIDEO_100HZ_LIST[j]['Speed'],sp)\n",
    "                \n",
    "                wave_shifted = TASK_DFS_WAVE_100HZ_LIST[i]['Horiz_Lip_Motion'].values\n",
    "                wave_speed_shifted = TASK_DFS_WAVE_100HZ_LIST[i]['Speed'].values\n",
    "                \n",
    "                upper_bound_shifted = upper_bound + sp -1\n",
    "                \n",
    "                if len(wave_shifted)< upper_bound_shifted:\n",
    "                    upper_bound_shifted = len(wave_shifted)\n",
    "             \n",
    "                name = TASK_DFS_WAVE_100HZ_LIST[i]['PatientID'][1] + '_' + TASK_DFS_WAVE_100HZ_LIST[i]['FileName'][1]\n",
    "                \n",
    "                range_l = sp+100\n",
    "                range_u = upper_bound_shifted-10\n",
    "                \n",
    "                result['Time_WAVE'] = time_w[range_l:range_u]\n",
    "                result['Time_VIDEO'] = time_v[range_l:range_u]\n",
    "                result['HorizDisp_WAVE'] = wave_shifted[range_l:range_u]\n",
    "                result['HorizDisp_VIDEO'] = video_shifted[range_l:range_u]\n",
    "                \n",
    "                result['Speed_WAVE'] = wave_speed_shifted[range_l:range_u]\n",
    "                result['Speed_VIDEO'] = video_speed_shifted[range_l:range_u]\n",
    "                \n",
    "                result['FileName'] = TASK_DFS_WAVE_100HZ_LIST[i]['FileName'][1]\n",
    "                result['PatientID'] = TASK_DFS_WAVE_100HZ_LIST[i]['PatientID'][1]\n",
    "                cvs = 'final_paper_data/SPREAD_'+ name +'.csv'\n",
    "                result.to_csv(cvs)\n",
    "                Final_DFS_LIST.append(result)\n",
    "                plt.figure()\n",
    "                \n",
    "                plt.plot(time[range_l:range_u], wave_shifted[range_l:range_u],'b', label='Ground truth (WAVE)')\n",
    "                plt.plot(time[range_l:range_u],video_shifted[range_l:range_u],'r', label='Video + FAN tracking')\n",
    "                plt.legend(loc=\"upper left\")\n",
    "                plt.xlabel('Time (s)')\n",
    "                plt.ylabel('Horizontal Range of Motion (mm)')\n",
    "                \n",
    "                plt.savefig('{}'.format(name))\n",
    "                \n",
    "                \n",
    "                plt.figure()\n",
    "                \n",
    "                plt.plot(time[range_l:range_u],wave_n[range_l:range_u],'b', label='Normalized Ground truth (WAVE)')\n",
    "                plt.plot(time[range_l:range_u],video_n_s[range_l:range_u],'r', label='Normalized Video + FAN tracking')\n",
    "                plt.legend(loc=\"upper left\")\n",
    "                plt.xlabel('Time (s)')\n",
    "                plt.ylabel('Horizontal Range of Motion (mm)')\n",
    "                plt.savefig('{}'.format(name+'Normalized'))\n",
    "\n",
    "\n",
    "             \n",
    "                plt.figure()\n",
    "                plt.scatter(wave_shifted[range_l:range_u], video_shifted[range_l:range_u]) \n",
    "                \n",
    "                \n",
    "                r, p = stats.pearsonr(video_n_s[range_l:range_u], wave_n[range_l:range_u])\n",
    "                print('The corrolation r and p-value between the signals are: r{}, p{}'.format(r,p))\n",
    "                print()\n",
    "                rms = np.sqrt(np.mean((wave_n[range_l:range_u]-video_n_s[range_l:range_u])**2))\n",
    "                \n",
    "                if TASK_DFS_WAVE_100HZ_LIST[i]['FileName'][1] == \"SPREAD_HOLD\":\n",
    "                    sh_pc.append(r)\n",
    "                    sh_rms_list.append(rms)\n",
    "                elif TASK_DFS_WAVE_100HZ_LIST[i]['FileName'][1] == \"SPREAD_NORM\":\n",
    "                    sn_pc.append(r)\n",
    "                    sn_rms_list.append(rms)\n",
    "                \n",
    "                #plt.figure()\n",
    "                #plt.plot(TASK_DFS_WAVE_100HZ_LIST[i]['Horiz_Lip_Motion'],'b')\n",
    "                #plt.plot(TASK_DFS_VIDEO_100HZ_LIST[j]['Horiz_Lip_Motion'],'r')\n",
    "               \n",
    "                \n",
    "\n",
    "                #plt.figure()\n",
    "                #plt.plot(TASK_DFS_WAVE_100HZ_LIST[i]['Horiz_Lip_Motion'],'b')\n",
    "                #plt.plot(video_shifted,'r')\n",
    "             \n",
    "\n",
    "                #plt.figure()\n",
    "                #plt.scatter(TASK_DFS_WAVE_100HZ_LIST[i]['Horiz_Lip_Motion'][sp:signal_bound], \n",
    "                #            video_shifted[sp:signal_bound])\n",
    "\n",
    "    "
   ]
  },
  {
   "cell_type": "markdown",
   "metadata": {},
   "source": [
    "# START HERE"
   ]
  },
  {
   "cell_type": "code",
   "execution_count": null,
   "metadata": {},
   "outputs": [],
   "source": [
    "# DO NOT RUN MORE THAN ONCE\n",
    "parsed_df = pd.DataFrame(columns=['PatientID','FileName','REP','ROM_VIDEO','ROM_WAVE', 'SpdAvg_WAVE', \n",
    "                                  'SpdAvg_VIDEO','Disp_WAVE', 'Disp_VIDEO','Time_WAVE', 'Time_VIDEO',\n",
    "                                  'Speed_WAVE', 'Speed_VIDEO'])\n",
    "\n",
    "\n",
    "reps = ['R1', 'R2', 'R3', 'R4', 'R5']\n",
    "len(Final_DFS_LIST)"
   ]
  },
  {
   "cell_type": "code",
   "execution_count": null,
   "metadata": {},
   "outputs": [],
   "source": [
    "reps = ['R1', 'R2', 'R3', 'R4', 'R5']\n",
    "#reps = ['R1', 'R2', 'R3', 'R4']"
   ]
  },
  {
   "cell_type": "code",
   "execution_count": null,
   "metadata": {},
   "outputs": [],
   "source": [
    "def apnd_adj (d, v, t, i):\n",
    "    d[i] = d[i].append(d[i+1])\n",
    "    v[i] = v[i].append(v[i+1])\n",
    "    t[i] = t[i].append(t[i+1])\n",
    "    d.pop(i+1)\n",
    "    v.pop(i+1)\n",
    "    t.pop(i+1)\n",
    "    return d, v, t"
   ]
  },
  {
   "cell_type": "code",
   "execution_count": null,
   "metadata": {},
   "outputs": [],
   "source": [
    "# df at hand \n",
    "DF = Final_DFS_LIST[5]"
   ]
  },
  {
   "cell_type": "code",
   "execution_count": null,
   "metadata": {},
   "outputs": [],
   "source": [
    "plt.plot(DF['HorizDisp_WAVE'])\n",
    "plt.plot(DF['HorizDisp_VIDEO'])"
   ]
  },
  {
   "cell_type": "code",
   "execution_count": null,
   "metadata": {},
   "outputs": [],
   "source": [
    "peaks, _ = signal.find_peaks(-DF['HorizDisp_WAVE'], height= -63, distance= 50)\n",
    "\n",
    "print(peaks)\n"
   ]
  },
  {
   "cell_type": "code",
   "execution_count": null,
   "metadata": {},
   "outputs": [],
   "source": [
    "reps_w = np.array_split(DF['HorizDisp_WAVE'], peaks)\n",
    "reps_w_v = np.array_split(DF['Speed_WAVE'], peaks)\n",
    "reps_w_t = np.array_split(DF['Time_WAVE'], peaks)\n",
    "\n",
    "reps_v = np.array_split(DF['HorizDisp_VIDEO'], peaks)\n",
    "reps_v_v = np.array_split(DF['Speed_VIDEO'], peaks)\n",
    "reps_v_t = np.array_split(DF['Time_VIDEO'], peaks)\n",
    "\n",
    "if 0:\n",
    "    reps_v.pop(0)\n",
    "    reps_v_v.pop(0)\n",
    "    reps_v_t.pop(0)\n",
    "    reps_v.pop(-1)\n",
    "    reps_v_v.pop(-1)\n",
    "    reps_v_t.pop(-1)\n",
    "    reps_w.pop(0)\n",
    "    reps_w_v.pop(0)\n",
    "    reps_w_t.pop(0)\n",
    "    reps_w.pop(-1)\n",
    "    reps_w_v.pop(-1)\n",
    "    reps_w_t.pop(-1)\n",
    "\n",
    "print(len(reps_w))"
   ]
  },
  {
   "cell_type": "code",
   "execution_count": null,
   "metadata": {},
   "outputs": [],
   "source": [
    "if 0: \n",
    "    reps_w.pop(2)\n",
    "    reps_w_v.pop(2)\n",
    "    reps_w_t.pop(2)\n",
    "    print(len(reps_w))\n",
    "    \n",
    "    reps_v.pop(2)\n",
    "    reps_v_v.pop(2)\n",
    "    reps_v_t.pop(2)\n",
    "    print(len(reps_v), len(reps_w))\n",
    "    \n",
    "\n",
    "if 0: \n",
    "    reps_w.pop(-1)\n",
    "    reps_w_v.pop(-1)\n",
    "    reps_w_t.pop(-1)\n",
    "    reps_v.pop(-1)\n",
    "    reps_v_v.pop(-1)\n",
    "    reps_v_t.pop(-1)\n",
    "    print(len(reps_v), len(reps_w))\n",
    "    \n",
    "if 1: \n",
    "    reps_w.pop(0)\n",
    "    reps_w_v.pop(0)\n",
    "    reps_w_t.pop(0)\n",
    "    reps_v.pop(0)\n",
    "    reps_v_v.pop(0)\n",
    "    reps_v_t.pop(0)\n",
    "    print(len(reps_v),len(reps_w))"
   ]
  },
  {
   "cell_type": "code",
   "execution_count": null,
   "metadata": {},
   "outputs": [],
   "source": [
    "plt.figure()\n",
    "for i in reps_w:\n",
    "    plt.plot(i)\n",
    "\n",
    "plt.figure()\n",
    "for i in reps_w_v:\n",
    "    plt.plot(i)\n",
    "    \n",
    "plt.figure()\n",
    "for i in reps_w:\n",
    "    plt.plot(i)\n",
    "for i in reps_v:\n",
    "    plt.plot(i)\n",
    "print(len(reps_v),len(reps_w))"
   ]
  },
  {
   "cell_type": "code",
   "execution_count": null,
   "metadata": {},
   "outputs": [],
   "source": [
    "### CAUTION\n",
    "if 1:\n",
    "    reps_w, reps_w_v, reps_w_t = apnd_adj(reps_w, reps_w_v, reps_w_t, 1)\n",
    "    reps_v, reps_v_v, reps_v_t = apnd_adj(reps_v, reps_v_v, reps_v_t, 1)"
   ]
  },
  {
   "cell_type": "code",
   "execution_count": null,
   "metadata": {},
   "outputs": [],
   "source": [
    "# ROM and AVG speed analysis \n",
    "rom_w = rom(reps_w)\n",
    "rom_v = rom(reps_v)\n",
    "ave_s_w = np.array([np.mean(abs(rep_v)) for rep_v in reps_w_v])\n",
    "ave_s_v = np.array([np.mean(abs(rep_v)) for rep_v in reps_v_v])\n",
    "print(rom_w)\n",
    "print(rom_v)\n",
    "print(ave_s_w)\n",
    "print(ave_s_v)"
   ]
  },
  {
   "cell_type": "code",
   "execution_count": null,
   "metadata": {},
   "outputs": [],
   "source": [
    "current_df = pd.DataFrame()\n",
    "\n",
    "current_df['REP'] = reps\n",
    "current_df['PatientID'] =  DF['PatientID'][1]\n",
    "current_df['FileName'] = DF['FileName'][1]  \n",
    "current_df['ROM_WAVE'] = rom_w\n",
    "current_df['ROM_VIDEO'] = rom_v\n",
    "current_df['SpdAvg_WAVE'] = ave_s_w\n",
    "current_df['SpdAvg_VIDEO'] = ave_s_v\n",
    "current_df['Disp_WAVE'] = reps_w  \n",
    "current_df['Time_WAVE'] = reps_w_t  \n",
    "current_df['Time_VIDEO'] = reps_v_t\n",
    "current_df['Disp_VIDEO'] = reps_v\n",
    "current_df['Speed_WAVE'] = reps_w_v \n",
    "current_df['Speed_VIDEO'] = reps_v_v\n",
    "\n",
    "current_df.head()"
   ]
  },
  {
   "cell_type": "code",
   "execution_count": null,
   "metadata": {},
   "outputs": [],
   "source": [
    "print(len(reps_w_t ))\n",
    "print(len(reps_v_t ))"
   ]
  },
  {
   "cell_type": "code",
   "execution_count": null,
   "metadata": {},
   "outputs": [],
   "source": [
    "parsed_df = parsed_df.append(current_df,ignore_index=True)\n",
    "\n",
    "print(len(parsed_df))"
   ]
  },
  {
   "cell_type": "code",
   "execution_count": null,
   "metadata": {},
   "outputs": [],
   "source": [
    "# MAKE SURE TO CHANGE THIS!!!!!!!!!\n",
    "\n",
    "cvs = 'SPREAD_PARSED_ANALYSIS_2.csv'\n",
    "parsed_df.to_csv(cvs)"
   ]
  },
  {
   "cell_type": "markdown",
   "metadata": {},
   "source": [
    "# DONE!"
   ]
  },
  {
   "cell_type": "code",
   "execution_count": null,
   "metadata": {},
   "outputs": [],
   "source": [
    "for i in range(len(parsed_df)):\n",
    "    rep_df = pd.DataFrame()\n",
    "    \n",
    "    rep_df['Disp_VIDEO'] = parsed_df['Disp_VIDEO'][i]\n",
    "    rep_df['Speed_VIDEO'] = parsed_df['Speed_VIDEO'][i]\n",
    "    rep_df['Time_VIDEO'] = parsed_df['Time_VIDEO'][i]\n",
    "    \n",
    "    \n",
    "    rep_df['PatientID'] =  parsed_df['PatientID'][i]\n",
    "    rep_df['FileName'] = parsed_df['FileName'][i]  \n",
    "\n",
    "    rep_df['ROM_VIDEO'] = parsed_df['ROM_VIDEO'] [i]\n",
    "\n",
    "    rep_df['SpdAvg_VIDEO'] = parsed_df ['ROM_VIDEO'][i]\n",
    "    name = parsed_df['PatientID'][i] + '_' + parsed_df['FileName'][i] + '_VIDEO_' +parsed_df['REP'][i] \n",
    "\n",
    "    cvs = 'Parsed_Data2/SPREAD_'+ name +'.csv'\n",
    "    current_df.to_csv(cvs)"
   ]
  },
  {
   "cell_type": "code",
   "execution_count": null,
   "metadata": {},
   "outputs": [],
   "source": [
    "deniz = parsed_df.loc[lambda DF: parsed_df['PatientID'] == 'DJ']\n",
    "mk = parsed_df.loc[lambda DF: parsed_df['PatientID'] == 'MK']\n",
    "rm = parsed_df.loc[lambda DF: parsed_df['PatientID'] == 'RM']"
   ]
  }
 ],
 "metadata": {
  "kernelspec": {
   "display_name": "ClinicalScore36",
   "language": "python",
   "name": "clinicalscore36"
  },
  "language_info": {
   "codemirror_mode": {
    "name": "ipython",
    "version": 3
   },
   "file_extension": ".py",
   "mimetype": "text/x-python",
   "name": "python",
   "nbconvert_exporter": "python",
   "pygments_lexer": "ipython3",
   "version": "3.6.12"
  }
 },
 "nbformat": 4,
 "nbformat_minor": 2
}
